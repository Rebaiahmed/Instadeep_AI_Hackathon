{
 "cells": [
  {
   "cell_type": "code",
   "execution_count": 1,
   "metadata": {},
   "outputs": [],
   "source": [
    "import pandas as  pd \n",
    "import numpy as  np \n",
    "from datetime import datetime\n",
    "\n",
    "import os\n",
    "import matplotlib.pyplot as plt\n",
    "from sklearn import  metrics, model_selection\n",
    "from xgboost.sklearn import XGBClassifier\n"
   ]
  },
  {
   "cell_type": "code",
   "execution_count": 2,
   "metadata": {},
   "outputs": [],
   "source": [
    "train_Numerical_data=pd.read_csv(\"all/train_Numerical_data.csv\")\n",
    "test=pd.read_csv(\"all/test.csv\")\n"
   ]
  },
  {
   "cell_type": "code",
   "execution_count": 3,
   "metadata": {},
   "outputs": [],
   "source": [
    "test[\"Store_id\"]=test[\"Id\"].apply( lambda x : x.split(\"|\")[0])\n",
    "test[\"Item_id\"]=test[\"Id\"].apply( lambda x : x.split(\"|\")[1])\n",
    "test[\"Date\"]=test[\"Id\"].apply( lambda x : x.split(\"|\")[2])"
   ]
  },
  {
   "cell_type": "code",
   "execution_count": 4,
   "metadata": {},
   "outputs": [
    {
     "data": {
      "text/html": [
       "<div>\n",
       "<style scoped>\n",
       "    .dataframe tbody tr th:only-of-type {\n",
       "        vertical-align: middle;\n",
       "    }\n",
       "\n",
       "    .dataframe tbody tr th {\n",
       "        vertical-align: top;\n",
       "    }\n",
       "\n",
       "    .dataframe thead th {\n",
       "        text-align: right;\n",
       "    }\n",
       "</style>\n",
       "<table border=\"1\" class=\"dataframe\">\n",
       "  <thead>\n",
       "    <tr style=\"text-align: right;\">\n",
       "      <th></th>\n",
       "      <th>Store_id</th>\n",
       "      <th>Item_id</th>\n",
       "      <th>Date</th>\n",
       "      <th>Quantity</th>\n",
       "      <th>Price</th>\n",
       "      <th>Net_Price</th>\n",
       "      <th>Net_Amount</th>\n",
       "      <th>Discount_Amount</th>\n",
       "      <th>Cost_Amount</th>\n",
       "      <th>Customer_Discount</th>\n",
       "      <th>Total_Discount</th>\n",
       "      <th>Periodic_Discount</th>\n",
       "      <th>Refund Qty_</th>\n",
       "      <th>date</th>\n",
       "    </tr>\n",
       "  </thead>\n",
       "  <tbody>\n",
       "  </tbody>\n",
       "</table>\n",
       "</div>"
      ],
      "text/plain": [
       "Empty DataFrame\n",
       "Columns: [Store_id, Item_id, Date, Quantity, Price, Net_Price, Net_Amount, Discount_Amount, Cost_Amount, Customer_Discount, Total_Discount, Periodic_Discount, Refund Qty_, date]\n",
       "Index: []"
      ]
     },
     "execution_count": 4,
     "metadata": {},
     "output_type": "execute_result"
    }
   ],
   "source": [
    "test.Date=pd.to_datetime(test.Date).dt.date\n",
    "train_Numerical_data.Date=pd.to_datetime(train_Numerical_data.Date).dt.date\n",
    "train_Numerical_data[train_Numerical_data.Date.isin(test.Date)]"
   ]
  },
  {
   "cell_type": "code",
   "execution_count": 5,
   "metadata": {},
   "outputs": [],
   "source": [
    "start_date=datetime(2017,1,1).date()\n",
    "end_date=datetime(2018,10,17).date()"
   ]
  },
  {
   "cell_type": "code",
   "execution_count": 6,
   "metadata": {},
   "outputs": [],
   "source": [
    "item_to_use=test.Item_id.unique()\n",
    "store_to_use=test.Store_id.unique()\n",
    "train_Numerical_data=train_Numerical_data[train_Numerical_data.Item_id.isin(item_to_use)]\n",
    "train_Numerical_data=train_Numerical_data[train_Numerical_data.Store_id.isin(store_to_use)]\n",
    "train_Numerical_data=train_Numerical_data[train_Numerical_data.Quantity>0]\n"
   ]
  },
  {
   "cell_type": "code",
   "execution_count": 7,
   "metadata": {},
   "outputs": [],
   "source": [
    "train_Numerical_data[\"date\"]=pd.to_datetime(train_Numerical_data.Date)\n",
    "train_Numerical_data[\"Date\"]=train_Numerical_data.date.dt.date\n",
    "train_Numerical_data=train_Numerical_data[train_Numerical_data.Date>=start_date]\n",
    "# get firt date of item store\n",
    "train_Numerical_data.sort_values([\"Item_id\",\"Store_id\",\"Date\"],inplace=True)\n",
    "test[\"Date\"]=pd.to_datetime(test.Date).dt.date\n"
   ]
  },
  {
   "cell_type": "code",
   "execution_count": 8,
   "metadata": {},
   "outputs": [
    {
     "data": {
      "text/plain": [
       "datetime.date(2018, 10, 17)"
      ]
     },
     "execution_count": 8,
     "metadata": {},
     "output_type": "execute_result"
    }
   ],
   "source": [
    "train_Numerical_data.Date.max()"
   ]
  },
  {
   "cell_type": "code",
   "execution_count": 9,
   "metadata": {},
   "outputs": [],
   "source": [
    "test_keys=test.groupby([\"Store_id\"]).Item_id.unique().rename(\"list_of_uniqe_itmes\").reset_index()\n",
    "train_Numerical_data.sort_values([\"Item_id\",\"Store_id\",\"Date\"],inplace=True)\n",
    "keys=pd.concat([train_Numerical_data,test]).sort_values([\"Item_id\",\"Store_id\",\"Date\"]).drop_duplicates([\"Item_id\",\"Store_id\"])[[\"Item_id\",\"Store_id\",\"Date\"]]"
   ]
  },
  {
   "cell_type": "code",
   "execution_count": 10,
   "metadata": {},
   "outputs": [
    {
     "name": "stdout",
     "output_type": "stream",
     "text": [
      "S_0\n",
      "S_1\n",
      "S_10\n",
      "S_11\n",
      "S_12\n",
      "S_13\n",
      "S_14\n",
      "S_15\n",
      "S_16\n",
      "S_17\n",
      "S_18\n",
      "S_19\n",
      "S_2\n",
      "S_20\n",
      "S_21\n",
      "S_22\n",
      "S_3\n",
      "S_4\n",
      "S_5\n",
      "S_6\n",
      "S_7\n",
      "S_8\n",
      "S_9\n"
     ]
    },
    {
     "data": {
      "text/html": [
       "<div>\n",
       "<style scoped>\n",
       "    .dataframe tbody tr th:only-of-type {\n",
       "        vertical-align: middle;\n",
       "    }\n",
       "\n",
       "    .dataframe tbody tr th {\n",
       "        vertical-align: top;\n",
       "    }\n",
       "\n",
       "    .dataframe thead th {\n",
       "        text-align: right;\n",
       "    }\n",
       "</style>\n",
       "<table border=\"1\" class=\"dataframe\">\n",
       "  <thead>\n",
       "    <tr style=\"text-align: right;\">\n",
       "      <th></th>\n",
       "      <th>Date</th>\n",
       "      <th>Store_id</th>\n",
       "      <th>Item_id</th>\n",
       "    </tr>\n",
       "  </thead>\n",
       "  <tbody>\n",
       "    <tr>\n",
       "      <th>0</th>\n",
       "      <td>2018-03-16</td>\n",
       "      <td>S_0</td>\n",
       "      <td>Item_1008</td>\n",
       "    </tr>\n",
       "    <tr>\n",
       "      <th>1</th>\n",
       "      <td>2018-03-17</td>\n",
       "      <td>S_0</td>\n",
       "      <td>Item_1008</td>\n",
       "    </tr>\n",
       "    <tr>\n",
       "      <th>2</th>\n",
       "      <td>2018-03-18</td>\n",
       "      <td>S_0</td>\n",
       "      <td>Item_1008</td>\n",
       "    </tr>\n",
       "    <tr>\n",
       "      <th>3</th>\n",
       "      <td>2018-03-19</td>\n",
       "      <td>S_0</td>\n",
       "      <td>Item_1008</td>\n",
       "    </tr>\n",
       "    <tr>\n",
       "      <th>4</th>\n",
       "      <td>2018-03-20</td>\n",
       "      <td>S_0</td>\n",
       "      <td>Item_1008</td>\n",
       "    </tr>\n",
       "  </tbody>\n",
       "</table>\n",
       "</div>"
      ],
      "text/plain": [
       "         Date Store_id    Item_id\n",
       "0  2018-03-16      S_0  Item_1008\n",
       "1  2018-03-17      S_0  Item_1008\n",
       "2  2018-03-18      S_0  Item_1008\n",
       "3  2018-03-19      S_0  Item_1008\n",
       "4  2018-03-20      S_0  Item_1008"
      ]
     },
     "execution_count": 10,
     "metadata": {},
     "output_type": "execute_result"
    }
   ],
   "source": [
    "keys_to_use=[] \n",
    "for store , list_items in zip(test_keys.Store_id ,test_keys.list_of_uniqe_itmes): \n",
    "    keys_to_use.append(keys[(keys.Store_id==store)&(keys.Item_id.isin(list_items))])\n",
    "keys=pd.concat(keys_to_use)\n",
    "def create_data(store,start_date=start_date,end_date=end_date):\n",
    "    print(store)\n",
    "    frame=pd.DataFrame()\n",
    "    keys_store=keys[keys.Store_id==store]\n",
    "    items=keys_store.Item_id.values\n",
    "    min_date=keys_store.Date.values\n",
    "    Frames=[]\n",
    "    for  item , date  in  zip(items,min_date) :\n",
    "        frame=pd.DataFrame()\n",
    "#         frame[\"Date\"]=pd.date_range(date if start_date< date else start_date ,end_date).date\n",
    "        frame[\"Date\"]=pd.date_range(date ,end_date).date\n",
    "\n",
    "        frame[\"Store_id\"]=store\n",
    "        frame[\"Item_id\"]=item\n",
    "        Frames.append(frame)\n",
    "        del frame\n",
    "    Frames=pd.concat(Frames)\n",
    "    \n",
    "    return Frames\n",
    "full_data=pd.concat([ create_data(store) for store in keys.Store_id.unique()  ])\n",
    "\n",
    "full_data.head()"
   ]
  },
  {
   "cell_type": "code",
   "execution_count": 11,
   "metadata": {},
   "outputs": [],
   "source": [
    "full_data[\"date\"]=pd.to_datetime(full_data.Date)\n",
    "full_data[\"day_of_week\"]=full_data[\"date\"].dt.dayofweek\n",
    "full_data[\"year\"]=full_data[\"date\"].dt.year\n",
    "full_data[\"woy\"]=full_data[\"date\"].dt.weekofyear\n",
    "full_data[\"month\"]=full_data[\"date\"].dt.month\n",
    "full_data[\"quarter\"]=full_data[\"date\"].dt.quarter\n",
    "full_data[\"month_day\"]=full_data[\"date\"].dt.day\n",
    "del full_data[\"date\"] "
   ]
  },
  {
   "cell_type": "code",
   "execution_count": 12,
   "metadata": {},
   "outputs": [],
   "source": [
    "target=train_Numerical_data[train_Numerical_data.Quantity>0][[\"Date\",\"Store_id\",\"Item_id\",\"Quantity\"]]\n",
    "train_target=target.groupby([\"Date\",\"Store_id\",\"Item_id\"]).Quantity.sum().rename(\"Quantity\").reset_index()\n",
    "train_target[\"Date\"]=pd.to_datetime(train_target.Date).dt.date\n",
    "full_data=full_data.merge(train_target,on=[\"Date\",\"Store_id\",\"Item_id\"],how=\"left\")\n",
    "full_data.fillna(0,inplace=True)\n",
    "full_data.loc[full_data.Date.isin(test.Date),\"Quantity\"]=np.nan\n",
    "del train_target"
   ]
  },
  {
   "cell_type": "code",
   "execution_count": null,
   "metadata": {},
   "outputs": [],
   "source": []
  },
  {
   "cell_type": "markdown",
   "metadata": {},
   "source": [
    "### feature engineering"
   ]
  },
  {
   "cell_type": "markdown",
   "metadata": {},
   "source": [
    "### Model "
   ]
  },
  {
   "cell_type": "code",
   "execution_count": 13,
   "metadata": {},
   "outputs": [
    {
     "data": {
      "text/plain": [
       "0"
      ]
     },
     "execution_count": 13,
     "metadata": {},
     "output_type": "execute_result"
    }
   ],
   "source": [
    "test.Date=pd.to_datetime(test.Date).dt.date\n",
    "Train=full_data[~full_data.Date.isin(test.Date)]\n",
    "Test=full_data[full_data.Date.isin(test.Date)]\n",
    "len(Test)-len(test)"
   ]
  },
  {
   "cell_type": "markdown",
   "metadata": {},
   "source": [
    "### Train is the the final data to use for train your model good luck :) "
   ]
  },
  {
   "cell_type": "code",
   "execution_count": 14,
   "metadata": {},
   "outputs": [
    {
     "data": {
      "text/plain": [
       "Index(['Date', 'Store_id', 'Item_id', 'day_of_week', 'year', 'woy', 'month',\n",
       "       'quarter', 'month_day', 'Quantity'],\n",
       "      dtype='object')"
      ]
     },
     "execution_count": 14,
     "metadata": {},
     "output_type": "execute_result"
    }
   ],
   "source": [
    "Test.columns"
   ]
  },
  {
   "cell_type": "code",
   "execution_count": 15,
   "metadata": {},
   "outputs": [],
   "source": [
    "to_remove=['Date', 'Store_id', 'Item_id',\"year\",\"Quantity\"]\n",
    "from sklearn.model_selection import train_test_split\n",
    "Train,Val=train_test_split(Train,test_size=0.1)"
   ]
  },
  {
   "cell_type": "code",
   "execution_count": null,
   "metadata": {},
   "outputs": [
    {
     "data": {
      "text/html": [
       "<div>\n",
       "<style scoped>\n",
       "    .dataframe tbody tr th:only-of-type {\n",
       "        vertical-align: middle;\n",
       "    }\n",
       "\n",
       "    .dataframe tbody tr th {\n",
       "        vertical-align: top;\n",
       "    }\n",
       "\n",
       "    .dataframe thead th {\n",
       "        text-align: right;\n",
       "    }\n",
       "</style>\n",
       "<table border=\"1\" class=\"dataframe\">\n",
       "  <thead>\n",
       "    <tr style=\"text-align: right;\">\n",
       "      <th></th>\n",
       "      <th>Date</th>\n",
       "      <th>Store_id</th>\n",
       "      <th>Item_id</th>\n",
       "      <th>day_of_week</th>\n",
       "      <th>year</th>\n",
       "      <th>woy</th>\n",
       "      <th>month</th>\n",
       "      <th>quarter</th>\n",
       "      <th>month_day</th>\n",
       "      <th>Quantity</th>\n",
       "    </tr>\n",
       "  </thead>\n",
       "  <tbody>\n",
       "    <tr>\n",
       "      <th>3160573</th>\n",
       "      <td>0</td>\n",
       "      <td>0</td>\n",
       "      <td>0</td>\n",
       "      <td>0</td>\n",
       "      <td>0</td>\n",
       "      <td>0</td>\n",
       "      <td>0</td>\n",
       "      <td>0</td>\n",
       "      <td>0</td>\n",
       "      <td>0</td>\n",
       "    </tr>\n",
       "    <tr>\n",
       "      <th>2206530</th>\n",
       "      <td>1</td>\n",
       "      <td>1</td>\n",
       "      <td>1</td>\n",
       "      <td>0</td>\n",
       "      <td>0</td>\n",
       "      <td>1</td>\n",
       "      <td>1</td>\n",
       "      <td>1</td>\n",
       "      <td>1</td>\n",
       "      <td>1</td>\n",
       "    </tr>\n",
       "    <tr>\n",
       "      <th>3241856</th>\n",
       "      <td>2</td>\n",
       "      <td>2</td>\n",
       "      <td>2</td>\n",
       "      <td>1</td>\n",
       "      <td>0</td>\n",
       "      <td>2</td>\n",
       "      <td>2</td>\n",
       "      <td>0</td>\n",
       "      <td>2</td>\n",
       "      <td>2</td>\n",
       "    </tr>\n",
       "    <tr>\n",
       "      <th>501331</th>\n",
       "      <td>3</td>\n",
       "      <td>3</td>\n",
       "      <td>3</td>\n",
       "      <td>1</td>\n",
       "      <td>1</td>\n",
       "      <td>3</td>\n",
       "      <td>3</td>\n",
       "      <td>2</td>\n",
       "      <td>1</td>\n",
       "      <td>2</td>\n",
       "    </tr>\n",
       "    <tr>\n",
       "      <th>897421</th>\n",
       "      <td>4</td>\n",
       "      <td>4</td>\n",
       "      <td>4</td>\n",
       "      <td>1</td>\n",
       "      <td>0</td>\n",
       "      <td>4</td>\n",
       "      <td>4</td>\n",
       "      <td>3</td>\n",
       "      <td>3</td>\n",
       "      <td>2</td>\n",
       "    </tr>\n",
       "  </tbody>\n",
       "</table>\n",
       "</div>"
      ],
      "text/plain": [
       "         Date  Store_id  Item_id  day_of_week  year  woy  month  quarter  \\\n",
       "3160573     0         0        0            0     0    0      0        0   \n",
       "2206530     1         1        1            0     0    1      1        1   \n",
       "3241856     2         2        2            1     0    2      2        0   \n",
       "501331      3         3        3            1     1    3      3        2   \n",
       "897421      4         4        4            1     0    4      4        3   \n",
       "\n",
       "         month_day  Quantity  \n",
       "3160573          0         0  \n",
       "2206530          1         1  \n",
       "3241856          2         2  \n",
       "501331           1         2  \n",
       "897421           3         2  "
      ]
     },
     "execution_count": 16,
     "metadata": {},
     "output_type": "execute_result"
    }
   ],
   "source": [
    "### Model to use  \n",
    "\n",
    "Train['Quantity'],class_names = pd.factorize(Train['Quantity'])\n",
    "\n",
    "Train['Date'],_ = pd.factorize(Train['Date'])\n",
    "Train['Store_id'],_ = pd.factorize(Train['Store_id'])\n",
    "Train['Item_id'],_ = pd.factorize(Train['Item_id'])\n",
    "Train['day_of_week'],_ = pd.factorize(Train['day_of_week'])\n",
    "Train['year'],_ = pd.factorize(Train['year'])\n",
    "Train['woy'],_ = pd.factorize(Train['woy'])\n",
    "Train['month'],_ = pd.factorize(Train['month'])\n",
    "Train['quarter'],_ = pd.factorize(Train['quarter'])\n",
    "Train['month_day'],_ = pd.factorize(Train['month_day'])\n",
    "Train['Quantity'],_ = pd.factorize(Train['Quantity'])\n",
    "Train.head()\n",
    "\n"
   ]
  },
  {
   "cell_type": "code",
   "execution_count": null,
   "metadata": {},
   "outputs": [],
   "source": [
    "X = Train.iloc[:,:-1]\n",
    "y = Train.iloc[:,-1]\n",
    "\n",
    "X_train, X_test, y_train, y_test = model_selection.train_test_split(X, y, test_size=0.3, random_state=123)\n",
    "params = {\n",
    "    'objective': 'binary:logistic',\n",
    "    'max_depth': 2,\n",
    "    'learning_rate': 1.0,\n",
    "    'silent': 1.0,\n",
    "    'n_estimators': 5\n",
    "}\n",
    "\n",
    "model = XGBClassifier(**params).fit(X_train, y_train)"
   ]
  },
  {
   "cell_type": "code",
   "execution_count": null,
   "metadata": {},
   "outputs": [],
   "source": [
    "# use the model to make predictions with the test data\n",
    "y_pred = model.predict(X_test)\n",
    "# how did our model perform?\n",
    "count_misclassified = (y_test != y_pred).sum()\n",
    "print('Misclassified samples: {}'.format(count_misclassified))\n",
    "accuracy = metrics.accuracy_score(y_test, y_pred)\n",
    "print('Accuracy: {:.2f}'.format(accuracy))"
   ]
  },
  {
   "cell_type": "markdown",
   "metadata": {},
   "source": [
    "### Create  Submission "
   ]
  },
  {
   "cell_type": "code",
   "execution_count": null,
   "metadata": {},
   "outputs": [],
   "source": [
    "Test[\"Quantity\"]=p_test \n",
    "Test[\"Quantity\"]=Test[\"Quantity\"].apply( lambda x : x if x>0 else 0 )\n",
    "test.Date=pd.to_datetime(test.Date)\n",
    "Test.Date=pd.to_datetime(Test.Date)\n",
    "del test[\"Quantity\"]\n",
    "test=test.merge(Test[[\"Quantity\",\"Store_id\",\"Item_id\",\"Date\"]],how=\"left\",on=[\"Store_id\",\"Item_id\",\"Date\"])\n",
    "test[[\"Id\",\"Quantity\"]].to_csv(\"sub.csv\",index=False)"
   ]
  },
  {
   "cell_type": "code",
   "execution_count": null,
   "metadata": {},
   "outputs": [],
   "source": []
  }
 ],
 "metadata": {
  "kernelspec": {
   "display_name": "Python 3",
   "language": "python",
   "name": "python3"
  },
  "language_info": {
   "codemirror_mode": {
    "name": "ipython",
    "version": 3
   },
   "file_extension": ".py",
   "mimetype": "text/x-python",
   "name": "python",
   "nbconvert_exporter": "python",
   "pygments_lexer": "ipython3",
   "version": "3.5.2"
  }
 },
 "nbformat": 4,
 "nbformat_minor": 2
}
